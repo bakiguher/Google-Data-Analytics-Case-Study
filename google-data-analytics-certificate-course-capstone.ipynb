{
 "cells": [
  {
   "cell_type": "markdown",
   "id": "10039a4b",
   "metadata": {
    "papermill": {
     "duration": 0.030564,
     "end_time": "2022-01-16T21:08:16.183880",
     "exception": false,
     "start_time": "2022-01-16T21:08:16.153316",
     "status": "completed"
    },
    "tags": []
   },
   "source": [
    "# **Case Study: How Does a Bike-Share Navigate Speedy Success?\n",
    "**Introduction\n",
    "\n",
    "This case study is about Capstone project requirement for Google Data Analytics Professional Certificate. It involves a *fictional* bike-share company's data of its customer's trip details over a 12 month period in the year of 2021.\n",
    "\n",
    "\n",
    "**About the company\n",
    "\n",
    "Cyclistic, A fictional bike-share program that features many bicycles and docking stations. Cyclistic sets itself apart by also offering reclining bikes, hand tricycles, and cargo bikes, making bike-share more inclusive to people with disabilities and riders who can’t use a standard two-wheeled bike. The majority of riders opt for traditional bikes; about 8% of riders use the assistive options. Cyclistic users are more likely to ride for leisure, but about 30% use them to commute to work each day.\n",
    "\n",
    "In 2016, Cyclistic launched a successful bike-share offering. Since then, the program has grown to a fleet of 5,824 bicycles that are geotracked and locked into a network of 692 stations across Chicago. The bikes can be unlocked from one station and returned to any other station in the system anytime.\n",
    "\n",
    "Until now, Cyclistic’s marketing strategy relied on building general awareness and appealing to broad consumer segments. One approach that helped make these things possible was the flexibility of its pricing plans: single-ride passes, full-day passes, and annual memberships. Customers who purchase single-ride or full-day passes are referred to as casual riders. Customers who purchase annual memberships are Cyclistic members.\n",
    "\n",
    "Cyclistic’s finance analysts have concluded that annual members are much more profitable than casual riders. Although the pricing flexibility helps Cyclistic attract more customers, it is  believed that maximizing the number of annual members will be key to future growth. Rather than creating a marketing campaign that targets all-new customers, also there is a very good chance to convert casual riders into members. Because casual riders are already aware of the Cyclistic program and have chosen Cyclistic for their mobility needs.\n",
    "\n",
    "Cyclistic has a clear goal; design marketing strategies aimed at converting casual riders into annual members. In order to do that, however, the marketing analyst team needs to better understand how annual members and casual riders differ, why casual riders would buy a membership, and how digital media could affect their marketing tactics. Cyclistic is interested in analyzing the Cyclistic historical bike trip data to identify trends.\n",
    "\n",
    "\n"
   ]
  },
  {
   "cell_type": "markdown",
   "id": "764aa341",
   "metadata": {
    "papermill": {
     "duration": 0.028141,
     "end_time": "2022-01-16T21:08:16.242411",
     "exception": false,
     "start_time": "2022-01-16T21:08:16.214270",
     "status": "completed"
    },
    "tags": []
   },
   "source": [
    "**Processes for data analysis phases:\n",
    "\n",
    "1-ASK\n",
    "\n",
    "-How do annual members and casual riders use Cyclistic bikes differently?\n",
    "-What is the difference between annual members and casual riders?\n",
    "-Why casual riders would buy a membership?\n",
    "\n",
    "2-PREPARE\n",
    "\n",
    "I am using Divvy bike data sourced from the [Divvy Bike website](https://divvy-tripdata.s3.amazonaws.com/index.html)\n",
    "\n",
    "The data was organized by month and saved as .csv files within .zip files, I downloaded each month to my local computer it was almost 1GB in total. I combined 12 months data to 1 csv file with a python script.(combined_csv.csv)\n",
    "\n",
    "The data has following attributes:\n",
    "ride_id : a unique ID per ride\n",
    "rideable_type: the type of bicycle\n",
    "started_at: the date and time that the bicycle was taken\n",
    "ended_at: the date and time that the bicycle was dropped\n",
    "start_station_name: the name of start station\n",
    "start_station_id: a unique ID for the start station\n",
    "end_station_name: the name of the end station\n",
    "end_station_id : a unique ID for the end station\n",
    "start_lat: the latitude of the start station\n",
    "start_lng: the longitude of the start station\n",
    "end_lat: the latitude of the end station\n",
    "end_lng: the longitude of the end station\n",
    "member_casual: the type of membership\n",
    "\n",
    "\n",
    "The data source is reliable, original, comprehensive, current and cited. The data has been made available under this [license] (https://ride.divvybikes.com/data-license-agreement).\n",
    "\n"
   ]
  },
  {
   "cell_type": "markdown",
   "id": "35a74e97",
   "metadata": {
    "papermill": {
     "duration": 0.031025,
     "end_time": "2022-01-16T21:08:16.300268",
     "exception": false,
     "start_time": "2022-01-16T21:08:16.269243",
     "status": "completed"
    },
    "tags": []
   },
   "source": [
    "3-PROCESS\n",
    "\n",
    "All 2021 data was very big, I downloaded it to my local pc and combined them in to one .csv file with a python script. \n",
    "Checked for duplicates, there was none. \n",
    "In total there are: 5595064 rows Then .csv file is uploaded to kaggle. \n",
    "\n"
   ]
  },
  {
   "cell_type": "code",
   "execution_count": 1,
   "id": "677b90d6",
   "metadata": {
    "execution": {
     "iopub.execute_input": "2022-01-16T21:08:16.359590Z",
     "iopub.status.busy": "2022-01-16T21:08:16.357667Z",
     "iopub.status.idle": "2022-01-16T21:08:17.517510Z",
     "shell.execute_reply": "2022-01-16T21:08:17.516226Z"
    },
    "papermill": {
     "duration": 1.190902,
     "end_time": "2022-01-16T21:08:17.517666",
     "exception": false,
     "start_time": "2022-01-16T21:08:16.326764",
     "status": "completed"
    },
    "tags": []
   },
   "outputs": [
    {
     "data": {
      "text/html": [
       "'/kaggle/working'"
      ],
      "text/latex": [
       "'/kaggle/working'"
      ],
      "text/markdown": [
       "'/kaggle/working'"
      ],
      "text/plain": [
       "[1] \"/kaggle/working\""
      ]
     },
     "metadata": {},
     "output_type": "display_data"
    },
    {
     "name": "stderr",
     "output_type": "stream",
     "text": [
      "── \u001b[1mAttaching packages\u001b[22m ─────────────────────────────────────── tidyverse 1.3.1 ──\n",
      "\n",
      "\u001b[32m✔\u001b[39m \u001b[34mggplot2\u001b[39m 3.3.5     \u001b[32m✔\u001b[39m \u001b[34mpurrr  \u001b[39m 0.3.4\n",
      "\u001b[32m✔\u001b[39m \u001b[34mtibble \u001b[39m 3.1.5     \u001b[32m✔\u001b[39m \u001b[34mdplyr  \u001b[39m 1.0.7\n",
      "\u001b[32m✔\u001b[39m \u001b[34mtidyr  \u001b[39m 1.1.4     \u001b[32m✔\u001b[39m \u001b[34mstringr\u001b[39m 1.4.0\n",
      "\u001b[32m✔\u001b[39m \u001b[34mreadr  \u001b[39m 2.0.2     \u001b[32m✔\u001b[39m \u001b[34mforcats\u001b[39m 0.5.1\n",
      "\n",
      "── \u001b[1mConflicts\u001b[22m ────────────────────────────────────────── tidyverse_conflicts() ──\n",
      "\u001b[31m✖\u001b[39m \u001b[34mdplyr\u001b[39m::\u001b[32mfilter()\u001b[39m masks \u001b[34mstats\u001b[39m::filter()\n",
      "\u001b[31m✖\u001b[39m \u001b[34mdplyr\u001b[39m::\u001b[32mlag()\u001b[39m    masks \u001b[34mstats\u001b[39m::lag()\n",
      "\n",
      "\n",
      "Attaching package: ‘lubridate’\n",
      "\n",
      "\n",
      "The following objects are masked from ‘package:base’:\n",
      "\n",
      "    date, intersect, setdiff, union\n",
      "\n",
      "\n"
     ]
    }
   ],
   "source": [
    "# To start off the analysis, we need to install and load the relevant R packages\n",
    "\n",
    "# Install Packages\n",
    "#install.packages(\"tidyverse\",repos = \"http://cran.us.r-project.org\")\n",
    "getwd()\n",
    "\n",
    "# Load packages\n",
    "library(tidyverse)  \n",
    "library(lubridate)  \n",
    "library(ggplot2)"
   ]
  },
  {
   "cell_type": "code",
   "execution_count": 2,
   "id": "3eed17ad",
   "metadata": {
    "execution": {
     "iopub.execute_input": "2022-01-16T21:08:17.614462Z",
     "iopub.status.busy": "2022-01-16T21:08:17.585843Z",
     "iopub.status.idle": "2022-01-16T21:08:21.454435Z",
     "shell.execute_reply": "2022-01-16T21:08:21.453256Z"
    },
    "papermill": {
     "duration": 3.903961,
     "end_time": "2022-01-16T21:08:21.454619",
     "exception": false,
     "start_time": "2022-01-16T21:08:17.550658",
     "status": "completed"
    },
    "tags": []
   },
   "outputs": [
    {
     "name": "stderr",
     "output_type": "stream",
     "text": [
      "\u001b[1m\u001b[1mRows: \u001b[1m\u001b[22m\u001b[34m\u001b[34m5595063\u001b[34m\u001b[39m \u001b[1m\u001b[1mColumns: \u001b[1m\u001b[22m\u001b[34m\u001b[34m13\u001b[34m\u001b[39m\n",
      "\n",
      "\u001b[36m──\u001b[39m \u001b[1m\u001b[1mColumn specification\u001b[1m\u001b[22m \u001b[36m────────────────────────────────────────────────────────\u001b[39m\n",
      "\u001b[1mDelimiter:\u001b[22m \",\"\n",
      "\u001b[31mchr\u001b[39m  (7): ride_id, rideable_type, start_station_name, start_station_id, end_...\n",
      "\u001b[32mdbl\u001b[39m  (4): start_lat, start_lng, end_lat, end_lng\n",
      "\u001b[34mdttm\u001b[39m (2): started_at, ended_at\n",
      "\n",
      "\n",
      "\u001b[36mℹ\u001b[39m Use \u001b[30m\u001b[47m\u001b[30m\u001b[47m`spec()`\u001b[47m\u001b[30m\u001b[49m\u001b[39m to retrieve the full column specification for this data.\n",
      "\u001b[36mℹ\u001b[39m Specify the column types or set \u001b[30m\u001b[47m\u001b[30m\u001b[47m`show_col_types = FALSE`\u001b[47m\u001b[30m\u001b[49m\u001b[39m to quiet this message.\n",
      "\n"
     ]
    }
   ],
   "source": [
    "# Load data and set working directory setwd()\n",
    "setwd(\"../input/combined-csv\")\n",
    "\n",
    "m1_2021 <- read_csv(\"combined_csv.csv\")"
   ]
  },
  {
   "cell_type": "code",
   "execution_count": 3,
   "id": "79b71ca2",
   "metadata": {
    "execution": {
     "iopub.execute_input": "2022-01-16T21:08:21.530119Z",
     "iopub.status.busy": "2022-01-16T21:08:21.528749Z",
     "iopub.status.idle": "2022-01-16T21:08:57.678369Z",
     "shell.execute_reply": "2022-01-16T21:08:57.678831Z"
    },
    "papermill": {
     "duration": 36.189019,
     "end_time": "2022-01-16T21:08:57.679004",
     "exception": false,
     "start_time": "2022-01-16T21:08:21.489985",
     "status": "completed"
    },
    "tags": []
   },
   "outputs": [
    {
     "data": {
      "text/html": [
       "<style>\n",
       ".list-inline {list-style: none; margin:0; padding: 0}\n",
       ".list-inline>li {display: inline-block}\n",
       ".list-inline>li:not(:last-child)::after {content: \"\\00b7\"; padding: 0 .5ex}\n",
       "</style>\n",
       "<ol class=list-inline><li>'ride_id'</li><li>'rideable_type'</li><li>'started_at'</li><li>'ended_at'</li><li>'start_station_name'</li><li>'start_station_id'</li><li>'end_station_name'</li><li>'end_station_id'</li><li>'start_lat'</li><li>'start_lng'</li><li>'end_lat'</li><li>'end_lng'</li><li>'member_casual'</li></ol>\n"
      ],
      "text/latex": [
       "\\begin{enumerate*}\n",
       "\\item 'ride\\_id'\n",
       "\\item 'rideable\\_type'\n",
       "\\item 'started\\_at'\n",
       "\\item 'ended\\_at'\n",
       "\\item 'start\\_station\\_name'\n",
       "\\item 'start\\_station\\_id'\n",
       "\\item 'end\\_station\\_name'\n",
       "\\item 'end\\_station\\_id'\n",
       "\\item 'start\\_lat'\n",
       "\\item 'start\\_lng'\n",
       "\\item 'end\\_lat'\n",
       "\\item 'end\\_lng'\n",
       "\\item 'member\\_casual'\n",
       "\\end{enumerate*}\n"
      ],
      "text/markdown": [
       "1. 'ride_id'\n",
       "2. 'rideable_type'\n",
       "3. 'started_at'\n",
       "4. 'ended_at'\n",
       "5. 'start_station_name'\n",
       "6. 'start_station_id'\n",
       "7. 'end_station_name'\n",
       "8. 'end_station_id'\n",
       "9. 'start_lat'\n",
       "10. 'start_lng'\n",
       "11. 'end_lat'\n",
       "12. 'end_lng'\n",
       "13. 'member_casual'\n",
       "\n",
       "\n"
      ],
      "text/plain": [
       " [1] \"ride_id\"            \"rideable_type\"      \"started_at\"        \n",
       " [4] \"ended_at\"           \"start_station_name\" \"start_station_id\"  \n",
       " [7] \"end_station_name\"   \"end_station_id\"     \"start_lat\"         \n",
       "[10] \"start_lng\"          \"end_lat\"            \"end_lng\"           \n",
       "[13] \"member_casual\"     "
      ]
     },
     "metadata": {},
     "output_type": "display_data"
    },
    {
     "data": {
      "text/plain": [
       "   ride_id          rideable_type        started_at                 \n",
       " Length:5595063     Length:5595063     Min.   :2021-01-01 00:02:05  \n",
       " Class :character   Class :character   1st Qu.:2021-06-06 23:52:40  \n",
       " Mode  :character   Mode  :character   Median :2021-08-01 01:52:11  \n",
       "                                       Mean   :2021-07-29 07:41:02  \n",
       "                                       3rd Qu.:2021-09-24 16:36:16  \n",
       "                                       Max.   :2021-12-31 23:59:48  \n",
       "                                                                    \n",
       "    ended_at                   start_station_name start_station_id  \n",
       " Min.   :2021-01-01 00:08:39   Length:5595063     Length:5595063    \n",
       " 1st Qu.:2021-06-07 00:44:21   Class :character   Class :character  \n",
       " Median :2021-08-01 02:21:55   Mode  :character   Mode  :character  \n",
       " Mean   :2021-07-29 08:02:58                                        \n",
       " 3rd Qu.:2021-09-24 16:54:05                                        \n",
       " Max.   :2022-01-03 17:32:18                                        \n",
       "                                                                    \n",
       " end_station_name   end_station_id       start_lat       start_lng     \n",
       " Length:5595063     Length:5595063     Min.   :41.64   Min.   :-87.84  \n",
       " Class :character   Class :character   1st Qu.:41.88   1st Qu.:-87.66  \n",
       " Mode  :character   Mode  :character   Median :41.90   Median :-87.64  \n",
       "                                       Mean   :41.90   Mean   :-87.65  \n",
       "                                       3rd Qu.:41.93   3rd Qu.:-87.63  \n",
       "                                       Max.   :42.07   Max.   :-87.52  \n",
       "                                                                       \n",
       "    end_lat         end_lng       member_casual     \n",
       " Min.   :41.39   Min.   :-88.97   Length:5595063    \n",
       " 1st Qu.:41.88   1st Qu.:-87.66   Class :character  \n",
       " Median :41.90   Median :-87.64   Mode  :character  \n",
       " Mean   :41.90   Mean   :-87.65                     \n",
       " 3rd Qu.:41.93   3rd Qu.:-87.63                     \n",
       " Max.   :42.17   Max.   :-87.49                     \n",
       " NA's   :4771    NA's   :4771                       "
      ]
     },
     "metadata": {},
     "output_type": "display_data"
    }
   ],
   "source": [
    "colnames(m1_2021)\n",
    "summary(m1_2021)"
   ]
  },
  {
   "cell_type": "markdown",
   "id": "66a37400",
   "metadata": {
    "papermill": {
     "duration": 0.03699,
     "end_time": "2022-01-16T21:08:57.752521",
     "exception": false,
     "start_time": "2022-01-16T21:08:57.715531",
     "status": "completed"
    },
    "tags": []
   },
   "source": [
    "4-ANALYZE\n",
    "\n",
    "Added New Columns\n",
    "\n",
    "* date\n",
    "* day_of_week\n",
    "* day\n",
    "* month\n",
    "* ride_length\n"
   ]
  },
  {
   "cell_type": "code",
   "execution_count": 4,
   "id": "2aadbdae",
   "metadata": {
    "execution": {
     "iopub.execute_input": "2022-01-16T21:08:57.830760Z",
     "iopub.status.busy": "2022-01-16T21:08:57.829406Z",
     "iopub.status.idle": "2022-01-16T21:09:07.707697Z",
     "shell.execute_reply": "2022-01-16T21:09:07.706081Z"
    },
    "papermill": {
     "duration": 9.918819,
     "end_time": "2022-01-16T21:09:07.707981",
     "exception": false,
     "start_time": "2022-01-16T21:08:57.789162",
     "status": "completed"
    },
    "tags": []
   },
   "outputs": [],
   "source": [
    "# Added new columns \n",
    "#date, month and day of week \n",
    "\n",
    "m1_2021$date <- as.Date(m1_2021$started_at) \n",
    "m1_2021$month <- format(as.Date(m1_2021$date), \"%m\")\n",
    "m1_2021$day_of_week <- format(as.Date(m1_2021$date), \"%A\")\n",
    "m1_2021$month <- format(as.Date(m1_2021$date), \"%B\")\n",
    "\n",
    "# Added ride_length\" calculation (in seconds)\n",
    "m1_2021$ride_length <- difftime(m1_2021$ended_at,m1_2021$started_at)"
   ]
  },
  {
   "cell_type": "code",
   "execution_count": 5,
   "id": "166b9a82",
   "metadata": {
    "execution": {
     "iopub.execute_input": "2022-01-16T21:09:07.787630Z",
     "iopub.status.busy": "2022-01-16T21:09:07.785747Z",
     "iopub.status.idle": "2022-01-16T21:09:07.841030Z",
     "shell.execute_reply": "2022-01-16T21:09:07.840038Z"
    },
    "papermill": {
     "duration": 0.096776,
     "end_time": "2022-01-16T21:09:07.841174",
     "exception": false,
     "start_time": "2022-01-16T21:09:07.744398",
     "status": "completed"
    },
    "tags": []
   },
   "outputs": [
    {
     "name": "stdout",
     "output_type": "stream",
     "text": [
      "spec_tbl_df [5,595,063 × 17] (S3: spec_tbl_df/tbl_df/tbl/data.frame)\n",
      " $ ride_id           : chr [1:5595063] \"E19E6F1B8D4C42ED\" \"DC88F20C2C55F27F\" \"EC45C94683FE3F27\" \"4FA453A75AE377DB\" ...\n",
      " $ rideable_type     : chr [1:5595063] \"electric_bike\" \"electric_bike\" \"electric_bike\" \"electric_bike\" ...\n",
      " $ started_at        : POSIXct[1:5595063], format: \"2021-01-23 16:14:19\" \"2021-01-27 18:43:08\" ...\n",
      " $ ended_at          : POSIXct[1:5595063], format: \"2021-01-23 16:24:44\" \"2021-01-27 18:47:12\" ...\n",
      " $ start_station_name: chr [1:5595063] \"California Ave & Cortez St\" \"California Ave & Cortez St\" \"California Ave & Cortez St\" \"California Ave & Cortez St\" ...\n",
      " $ start_station_id  : chr [1:5595063] \"17660\" \"17660\" \"17660\" \"17660\" ...\n",
      " $ end_station_name  : chr [1:5595063] NA NA NA NA ...\n",
      " $ end_station_id    : chr [1:5595063] NA NA NA NA ...\n",
      " $ start_lat         : num [1:5595063] 41.9 41.9 41.9 41.9 41.9 ...\n",
      " $ start_lng         : num [1:5595063] -87.7 -87.7 -87.7 -87.7 -87.7 ...\n",
      " $ end_lat           : num [1:5595063] 41.9 41.9 41.9 41.9 41.9 ...\n",
      " $ end_lng           : num [1:5595063] -87.7 -87.7 -87.7 -87.7 -87.7 ...\n",
      " $ member_casual     : chr [1:5595063] \"member\" \"member\" \"member\" \"member\" ...\n",
      " $ date              : Date[1:5595063], format: \"2021-01-23\" \"2021-01-27\" ...\n",
      " $ month             : chr [1:5595063] \"January\" \"January\" \"January\" \"January\" ...\n",
      " $ day_of_week       : chr [1:5595063] \"Saturday\" \"Wednesday\" \"Thursday\" \"Thursday\" ...\n",
      " $ ride_length       : 'difftime' num [1:5595063] 625 244 80 702 ...\n",
      "  ..- attr(*, \"units\")= chr \"secs\"\n",
      " - attr(*, \"spec\")=\n",
      "  .. cols(\n",
      "  ..   ride_id = \u001b[31mcol_character()\u001b[39m,\n",
      "  ..   rideable_type = \u001b[31mcol_character()\u001b[39m,\n",
      "  ..   started_at = \u001b[34mcol_datetime(format = \"\")\u001b[39m,\n",
      "  ..   ended_at = \u001b[34mcol_datetime(format = \"\")\u001b[39m,\n",
      "  ..   start_station_name = \u001b[31mcol_character()\u001b[39m,\n",
      "  ..   start_station_id = \u001b[31mcol_character()\u001b[39m,\n",
      "  ..   end_station_name = \u001b[31mcol_character()\u001b[39m,\n",
      "  ..   end_station_id = \u001b[31mcol_character()\u001b[39m,\n",
      "  ..   start_lat = \u001b[32mcol_double()\u001b[39m,\n",
      "  ..   start_lng = \u001b[32mcol_double()\u001b[39m,\n",
      "  ..   end_lat = \u001b[32mcol_double()\u001b[39m,\n",
      "  ..   end_lng = \u001b[32mcol_double()\u001b[39m,\n",
      "  ..   member_casual = \u001b[31mcol_character()\u001b[39m\n",
      "  .. )\n",
      " - attr(*, \"problems\")=<externalptr> \n"
     ]
    }
   ],
   "source": [
    "#Check the structure of new data frame\n",
    "str(m1_2021)"
   ]
  },
  {
   "cell_type": "code",
   "execution_count": 6,
   "id": "bfa88da7",
   "metadata": {
    "execution": {
     "iopub.execute_input": "2022-01-16T21:09:07.923088Z",
     "iopub.status.busy": "2022-01-16T21:09:07.921251Z",
     "iopub.status.idle": "2022-01-16T21:09:16.738804Z",
     "shell.execute_reply": "2022-01-16T21:09:16.737336Z"
    },
    "papermill": {
     "duration": 8.860289,
     "end_time": "2022-01-16T21:09:16.738983",
     "exception": false,
     "start_time": "2022-01-16T21:09:07.878694",
     "status": "completed"
    },
    "tags": []
   },
   "outputs": [
    {
     "data": {
      "text/html": [
       "TRUE"
      ],
      "text/latex": [
       "TRUE"
      ],
      "text/markdown": [
       "TRUE"
      ],
      "text/plain": [
       "[1] TRUE"
      ]
     },
     "metadata": {},
     "output_type": "display_data"
    },
    {
     "data": {
      "text/plain": [
       "   Min. 1st Qu.  Median    Mean 3rd Qu.    Max. \n",
       "      0     405     720    1316    1307 3356649 "
      ]
     },
     "metadata": {},
     "output_type": "display_data"
    }
   ],
   "source": [
    "# Converted \"ride_length\" to numeric\n",
    "m1_2021$ride_length <- as.numeric(as.character(m1_2021$ride_length))\n",
    "is.numeric(m1_2021$ride_length)\n",
    "\n",
    "# Remove negative ride lenghts and create a new workable data frame all_trips \n",
    "all_trips <- m1_2021[!(m1_2021$ride_length<0),]\n",
    "\n",
    "# Summary analysis\n",
    "summary(all_trips$ride_length)"
   ]
  },
  {
   "cell_type": "code",
   "execution_count": 7,
   "id": "3abeb28b",
   "metadata": {
    "execution": {
     "iopub.execute_input": "2022-01-16T21:09:16.825796Z",
     "iopub.status.busy": "2022-01-16T21:09:16.823803Z",
     "iopub.status.idle": "2022-01-16T21:09:41.667841Z",
     "shell.execute_reply": "2022-01-16T21:09:41.666018Z"
    },
    "papermill": {
     "duration": 24.888647,
     "end_time": "2022-01-16T21:09:41.668038",
     "exception": false,
     "start_time": "2022-01-16T21:09:16.779391",
     "status": "completed"
    },
    "tags": []
   },
   "outputs": [
    {
     "data": {
      "text/html": [
       "<table class=\"dataframe\">\n",
       "<caption>A data.frame: 2 × 2</caption>\n",
       "<thead>\n",
       "\t<tr><th scope=col>all_trips$member_casual</th><th scope=col>all_trips$ride_length</th></tr>\n",
       "\t<tr><th scope=col>&lt;chr&gt;</th><th scope=col>&lt;dbl&gt;</th></tr>\n",
       "</thead>\n",
       "<tbody>\n",
       "\t<tr><td>casual</td><td>1920.1327</td></tr>\n",
       "\t<tr><td>member</td><td> 818.0129</td></tr>\n",
       "</tbody>\n",
       "</table>\n"
      ],
      "text/latex": [
       "A data.frame: 2 × 2\n",
       "\\begin{tabular}{ll}\n",
       " all\\_trips\\$member\\_casual & all\\_trips\\$ride\\_length\\\\\n",
       " <chr> & <dbl>\\\\\n",
       "\\hline\n",
       "\t casual & 1920.1327\\\\\n",
       "\t member &  818.0129\\\\\n",
       "\\end{tabular}\n"
      ],
      "text/markdown": [
       "\n",
       "A data.frame: 2 × 2\n",
       "\n",
       "| all_trips$member_casual &lt;chr&gt; | all_trips$ride_length &lt;dbl&gt; |\n",
       "|---|---|\n",
       "| casual | 1920.1327 |\n",
       "| member |  818.0129 |\n",
       "\n"
      ],
      "text/plain": [
       "  all_trips$member_casual all_trips$ride_length\n",
       "1 casual                  1920.1327            \n",
       "2 member                   818.0129            "
      ]
     },
     "metadata": {},
     "output_type": "display_data"
    },
    {
     "data": {
      "text/html": [
       "<table class=\"dataframe\">\n",
       "<caption>A data.frame: 2 × 2</caption>\n",
       "<thead>\n",
       "\t<tr><th scope=col>all_trips$member_casual</th><th scope=col>all_trips$ride_length</th></tr>\n",
       "\t<tr><th scope=col>&lt;chr&gt;</th><th scope=col>&lt;dbl&gt;</th></tr>\n",
       "</thead>\n",
       "<tbody>\n",
       "\t<tr><td>casual</td><td>958</td></tr>\n",
       "\t<tr><td>member</td><td>576</td></tr>\n",
       "</tbody>\n",
       "</table>\n"
      ],
      "text/latex": [
       "A data.frame: 2 × 2\n",
       "\\begin{tabular}{ll}\n",
       " all\\_trips\\$member\\_casual & all\\_trips\\$ride\\_length\\\\\n",
       " <chr> & <dbl>\\\\\n",
       "\\hline\n",
       "\t casual & 958\\\\\n",
       "\t member & 576\\\\\n",
       "\\end{tabular}\n"
      ],
      "text/markdown": [
       "\n",
       "A data.frame: 2 × 2\n",
       "\n",
       "| all_trips$member_casual &lt;chr&gt; | all_trips$ride_length &lt;dbl&gt; |\n",
       "|---|---|\n",
       "| casual | 958 |\n",
       "| member | 576 |\n",
       "\n"
      ],
      "text/plain": [
       "  all_trips$member_casual all_trips$ride_length\n",
       "1 casual                  958                  \n",
       "2 member                  576                  "
      ]
     },
     "metadata": {},
     "output_type": "display_data"
    },
    {
     "data": {
      "text/html": [
       "<table class=\"dataframe\">\n",
       "<caption>A data.frame: 2 × 2</caption>\n",
       "<thead>\n",
       "\t<tr><th scope=col>all_trips$member_casual</th><th scope=col>all_trips$ride_length</th></tr>\n",
       "\t<tr><th scope=col>&lt;chr&gt;</th><th scope=col>&lt;dbl&gt;</th></tr>\n",
       "</thead>\n",
       "<tbody>\n",
       "\t<tr><td>casual</td><td>3356649</td></tr>\n",
       "\t<tr><td>member</td><td>  93596</td></tr>\n",
       "</tbody>\n",
       "</table>\n"
      ],
      "text/latex": [
       "A data.frame: 2 × 2\n",
       "\\begin{tabular}{ll}\n",
       " all\\_trips\\$member\\_casual & all\\_trips\\$ride\\_length\\\\\n",
       " <chr> & <dbl>\\\\\n",
       "\\hline\n",
       "\t casual & 3356649\\\\\n",
       "\t member &   93596\\\\\n",
       "\\end{tabular}\n"
      ],
      "text/markdown": [
       "\n",
       "A data.frame: 2 × 2\n",
       "\n",
       "| all_trips$member_casual &lt;chr&gt; | all_trips$ride_length &lt;dbl&gt; |\n",
       "|---|---|\n",
       "| casual | 3356649 |\n",
       "| member |   93596 |\n",
       "\n"
      ],
      "text/plain": [
       "  all_trips$member_casual all_trips$ride_length\n",
       "1 casual                  3356649              \n",
       "2 member                    93596              "
      ]
     },
     "metadata": {},
     "output_type": "display_data"
    },
    {
     "data": {
      "text/html": [
       "<table class=\"dataframe\">\n",
       "<caption>A data.frame: 2 × 2</caption>\n",
       "<thead>\n",
       "\t<tr><th scope=col>all_trips$member_casual</th><th scope=col>all_trips$ride_length</th></tr>\n",
       "\t<tr><th scope=col>&lt;chr&gt;</th><th scope=col>&lt;dbl&gt;</th></tr>\n",
       "</thead>\n",
       "<tbody>\n",
       "\t<tr><td>casual</td><td>0</td></tr>\n",
       "\t<tr><td>member</td><td>0</td></tr>\n",
       "</tbody>\n",
       "</table>\n"
      ],
      "text/latex": [
       "A data.frame: 2 × 2\n",
       "\\begin{tabular}{ll}\n",
       " all\\_trips\\$member\\_casual & all\\_trips\\$ride\\_length\\\\\n",
       " <chr> & <dbl>\\\\\n",
       "\\hline\n",
       "\t casual & 0\\\\\n",
       "\t member & 0\\\\\n",
       "\\end{tabular}\n"
      ],
      "text/markdown": [
       "\n",
       "A data.frame: 2 × 2\n",
       "\n",
       "| all_trips$member_casual &lt;chr&gt; | all_trips$ride_length &lt;dbl&gt; |\n",
       "|---|---|\n",
       "| casual | 0 |\n",
       "| member | 0 |\n",
       "\n"
      ],
      "text/plain": [
       "  all_trips$member_casual all_trips$ride_length\n",
       "1 casual                  0                    \n",
       "2 member                  0                    "
      ]
     },
     "metadata": {},
     "output_type": "display_data"
    }
   ],
   "source": [
    "# summary by member type\n",
    "aggregate(all_trips$ride_length ~ all_trips$member_casual, FUN = mean)\n",
    "aggregate(all_trips$ride_length ~ all_trips$member_casual, FUN = median)\n",
    "aggregate(all_trips$ride_length ~ all_trips$member_casual, FUN = max)\n",
    "aggregate(all_trips$ride_length ~ all_trips$member_casual, FUN = min)\n"
   ]
  },
  {
   "cell_type": "code",
   "execution_count": 8,
   "id": "ec300fc1",
   "metadata": {
    "execution": {
     "iopub.execute_input": "2022-01-16T21:09:41.768682Z",
     "iopub.status.busy": "2022-01-16T21:09:41.767403Z",
     "iopub.status.idle": "2022-01-16T21:09:55.485070Z",
     "shell.execute_reply": "2022-01-16T21:09:55.483396Z"
    },
    "papermill": {
     "duration": 13.76907,
     "end_time": "2022-01-16T21:09:55.485224",
     "exception": false,
     "start_time": "2022-01-16T21:09:41.716154",
     "status": "completed"
    },
    "tags": []
   },
   "outputs": [
    {
     "data": {
      "text/html": [
       "<table class=\"dataframe\">\n",
       "<caption>A data.frame: 14 × 3</caption>\n",
       "<thead>\n",
       "\t<tr><th scope=col>all_trips$member_casual</th><th scope=col>all_trips$day_of_week</th><th scope=col>all_trips$ride_length</th></tr>\n",
       "\t<tr><th scope=col>&lt;chr&gt;</th><th scope=col>&lt;ord&gt;</th><th scope=col>&lt;dbl&gt;</th></tr>\n",
       "</thead>\n",
       "<tbody>\n",
       "\t<tr><td>casual</td><td>Sunday   </td><td>2253.9949</td></tr>\n",
       "\t<tr><td>member</td><td>Sunday   </td><td> 939.4763</td></tr>\n",
       "\t<tr><td>casual</td><td>Monday   </td><td>1912.5269</td></tr>\n",
       "\t<tr><td>member</td><td>Monday   </td><td> 794.8517</td></tr>\n",
       "\t<tr><td>casual</td><td>Tuesday  </td><td>1678.3396</td></tr>\n",
       "\t<tr><td>member</td><td>Tuesday  </td><td> 767.2874</td></tr>\n",
       "\t<tr><td>casual</td><td>Wednesday</td><td>1659.4383</td></tr>\n",
       "\t<tr><td>member</td><td>Wednesday</td><td> 769.1496</td></tr>\n",
       "\t<tr><td>casual</td><td>Thursday </td><td>1662.1955</td></tr>\n",
       "\t<tr><td>member</td><td>Thursday </td><td> 766.5710</td></tr>\n",
       "\t<tr><td>casual</td><td>Friday   </td><td>1820.9160</td></tr>\n",
       "\t<tr><td>member</td><td>Friday   </td><td> 799.4950</td></tr>\n",
       "\t<tr><td>casual</td><td>Saturday </td><td>2082.3740</td></tr>\n",
       "\t<tr><td>member</td><td>Saturday </td><td> 915.8742</td></tr>\n",
       "</tbody>\n",
       "</table>\n"
      ],
      "text/latex": [
       "A data.frame: 14 × 3\n",
       "\\begin{tabular}{lll}\n",
       " all\\_trips\\$member\\_casual & all\\_trips\\$day\\_of\\_week & all\\_trips\\$ride\\_length\\\\\n",
       " <chr> & <ord> & <dbl>\\\\\n",
       "\\hline\n",
       "\t casual & Sunday    & 2253.9949\\\\\n",
       "\t member & Sunday    &  939.4763\\\\\n",
       "\t casual & Monday    & 1912.5269\\\\\n",
       "\t member & Monday    &  794.8517\\\\\n",
       "\t casual & Tuesday   & 1678.3396\\\\\n",
       "\t member & Tuesday   &  767.2874\\\\\n",
       "\t casual & Wednesday & 1659.4383\\\\\n",
       "\t member & Wednesday &  769.1496\\\\\n",
       "\t casual & Thursday  & 1662.1955\\\\\n",
       "\t member & Thursday  &  766.5710\\\\\n",
       "\t casual & Friday    & 1820.9160\\\\\n",
       "\t member & Friday    &  799.4950\\\\\n",
       "\t casual & Saturday  & 2082.3740\\\\\n",
       "\t member & Saturday  &  915.8742\\\\\n",
       "\\end{tabular}\n"
      ],
      "text/markdown": [
       "\n",
       "A data.frame: 14 × 3\n",
       "\n",
       "| all_trips$member_casual &lt;chr&gt; | all_trips$day_of_week &lt;ord&gt; | all_trips$ride_length &lt;dbl&gt; |\n",
       "|---|---|---|\n",
       "| casual | Sunday    | 2253.9949 |\n",
       "| member | Sunday    |  939.4763 |\n",
       "| casual | Monday    | 1912.5269 |\n",
       "| member | Monday    |  794.8517 |\n",
       "| casual | Tuesday   | 1678.3396 |\n",
       "| member | Tuesday   |  767.2874 |\n",
       "| casual | Wednesday | 1659.4383 |\n",
       "| member | Wednesday |  769.1496 |\n",
       "| casual | Thursday  | 1662.1955 |\n",
       "| member | Thursday  |  766.5710 |\n",
       "| casual | Friday    | 1820.9160 |\n",
       "| member | Friday    |  799.4950 |\n",
       "| casual | Saturday  | 2082.3740 |\n",
       "| member | Saturday  |  915.8742 |\n",
       "\n"
      ],
      "text/plain": [
       "   all_trips$member_casual all_trips$day_of_week all_trips$ride_length\n",
       "1  casual                  Sunday                2253.9949            \n",
       "2  member                  Sunday                 939.4763            \n",
       "3  casual                  Monday                1912.5269            \n",
       "4  member                  Monday                 794.8517            \n",
       "5  casual                  Tuesday               1678.3396            \n",
       "6  member                  Tuesday                767.2874            \n",
       "7  casual                  Wednesday             1659.4383            \n",
       "8  member                  Wednesday              769.1496            \n",
       "9  casual                  Thursday              1662.1955            \n",
       "10 member                  Thursday               766.5710            \n",
       "11 casual                  Friday                1820.9160            \n",
       "12 member                  Friday                 799.4950            \n",
       "13 casual                  Saturday              2082.3740            \n",
       "14 member                  Saturday               915.8742            "
      ]
     },
     "metadata": {},
     "output_type": "display_data"
    },
    {
     "data": {
      "text/html": [
       "<table class=\"dataframe\">\n",
       "<caption>A data.frame: 24 × 3</caption>\n",
       "<thead>\n",
       "\t<tr><th scope=col>all_trips$member_casual</th><th scope=col>all_trips$month</th><th scope=col>all_trips$ride_length</th></tr>\n",
       "\t<tr><th scope=col>&lt;chr&gt;</th><th scope=col>&lt;ord&gt;</th><th scope=col>&lt;dbl&gt;</th></tr>\n",
       "</thead>\n",
       "<tbody>\n",
       "\t<tr><td>casual</td><td>January  </td><td>1541.0754</td></tr>\n",
       "\t<tr><td>member</td><td>January  </td><td> 772.3387</td></tr>\n",
       "\t<tr><td>casual</td><td>February </td><td>2962.3937</td></tr>\n",
       "\t<tr><td>member</td><td>February </td><td>1081.3251</td></tr>\n",
       "\t<tr><td>casual</td><td>March    </td><td>2289.5511</td></tr>\n",
       "\t<tr><td>member</td><td>March    </td><td> 838.2031</td></tr>\n",
       "\t<tr><td>casual</td><td>April    </td><td>2281.3794</td></tr>\n",
       "\t<tr><td>member</td><td>April    </td><td> 881.3527</td></tr>\n",
       "\t<tr><td>casual</td><td>May      </td><td>2293.8580</td></tr>\n",
       "\t<tr><td>member</td><td>May      </td><td> 878.3410</td></tr>\n",
       "\t<tr><td>casual</td><td>June     </td><td>2227.3044</td></tr>\n",
       "\t<tr><td>member</td><td>June     </td><td> 880.6729</td></tr>\n",
       "\t<tr><td>casual</td><td>July     </td><td>1967.4460</td></tr>\n",
       "\t<tr><td>member</td><td>July     </td><td> 854.3704</td></tr>\n",
       "\t<tr><td>casual</td><td>August   </td><td>1727.2208</td></tr>\n",
       "\t<tr><td>member</td><td>August   </td><td> 846.0936</td></tr>\n",
       "\t<tr><td>casual</td><td>September</td><td>1668.9319</td></tr>\n",
       "\t<tr><td>member</td><td>September</td><td> 824.1358</td></tr>\n",
       "\t<tr><td>casual</td><td>October  </td><td>1720.4382</td></tr>\n",
       "\t<tr><td>member</td><td>October  </td><td> 750.1241</td></tr>\n",
       "\t<tr><td>casual</td><td>November </td><td>1387.9469</td></tr>\n",
       "\t<tr><td>member</td><td>November </td><td> 678.5561</td></tr>\n",
       "\t<tr><td>casual</td><td>December </td><td>1409.6574</td></tr>\n",
       "\t<tr><td>member</td><td>December </td><td> 660.2963</td></tr>\n",
       "</tbody>\n",
       "</table>\n"
      ],
      "text/latex": [
       "A data.frame: 24 × 3\n",
       "\\begin{tabular}{lll}\n",
       " all\\_trips\\$member\\_casual & all\\_trips\\$month & all\\_trips\\$ride\\_length\\\\\n",
       " <chr> & <ord> & <dbl>\\\\\n",
       "\\hline\n",
       "\t casual & January   & 1541.0754\\\\\n",
       "\t member & January   &  772.3387\\\\\n",
       "\t casual & February  & 2962.3937\\\\\n",
       "\t member & February  & 1081.3251\\\\\n",
       "\t casual & March     & 2289.5511\\\\\n",
       "\t member & March     &  838.2031\\\\\n",
       "\t casual & April     & 2281.3794\\\\\n",
       "\t member & April     &  881.3527\\\\\n",
       "\t casual & May       & 2293.8580\\\\\n",
       "\t member & May       &  878.3410\\\\\n",
       "\t casual & June      & 2227.3044\\\\\n",
       "\t member & June      &  880.6729\\\\\n",
       "\t casual & July      & 1967.4460\\\\\n",
       "\t member & July      &  854.3704\\\\\n",
       "\t casual & August    & 1727.2208\\\\\n",
       "\t member & August    &  846.0936\\\\\n",
       "\t casual & September & 1668.9319\\\\\n",
       "\t member & September &  824.1358\\\\\n",
       "\t casual & October   & 1720.4382\\\\\n",
       "\t member & October   &  750.1241\\\\\n",
       "\t casual & November  & 1387.9469\\\\\n",
       "\t member & November  &  678.5561\\\\\n",
       "\t casual & December  & 1409.6574\\\\\n",
       "\t member & December  &  660.2963\\\\\n",
       "\\end{tabular}\n"
      ],
      "text/markdown": [
       "\n",
       "A data.frame: 24 × 3\n",
       "\n",
       "| all_trips$member_casual &lt;chr&gt; | all_trips$month &lt;ord&gt; | all_trips$ride_length &lt;dbl&gt; |\n",
       "|---|---|---|\n",
       "| casual | January   | 1541.0754 |\n",
       "| member | January   |  772.3387 |\n",
       "| casual | February  | 2962.3937 |\n",
       "| member | February  | 1081.3251 |\n",
       "| casual | March     | 2289.5511 |\n",
       "| member | March     |  838.2031 |\n",
       "| casual | April     | 2281.3794 |\n",
       "| member | April     |  881.3527 |\n",
       "| casual | May       | 2293.8580 |\n",
       "| member | May       |  878.3410 |\n",
       "| casual | June      | 2227.3044 |\n",
       "| member | June      |  880.6729 |\n",
       "| casual | July      | 1967.4460 |\n",
       "| member | July      |  854.3704 |\n",
       "| casual | August    | 1727.2208 |\n",
       "| member | August    |  846.0936 |\n",
       "| casual | September | 1668.9319 |\n",
       "| member | September |  824.1358 |\n",
       "| casual | October   | 1720.4382 |\n",
       "| member | October   |  750.1241 |\n",
       "| casual | November  | 1387.9469 |\n",
       "| member | November  |  678.5561 |\n",
       "| casual | December  | 1409.6574 |\n",
       "| member | December  |  660.2963 |\n",
       "\n"
      ],
      "text/plain": [
       "   all_trips$member_casual all_trips$month all_trips$ride_length\n",
       "1  casual                  January         1541.0754            \n",
       "2  member                  January          772.3387            \n",
       "3  casual                  February        2962.3937            \n",
       "4  member                  February        1081.3251            \n",
       "5  casual                  March           2289.5511            \n",
       "6  member                  March            838.2031            \n",
       "7  casual                  April           2281.3794            \n",
       "8  member                  April            881.3527            \n",
       "9  casual                  May             2293.8580            \n",
       "10 member                  May              878.3410            \n",
       "11 casual                  June            2227.3044            \n",
       "12 member                  June             880.6729            \n",
       "13 casual                  July            1967.4460            \n",
       "14 member                  July             854.3704            \n",
       "15 casual                  August          1727.2208            \n",
       "16 member                  August           846.0936            \n",
       "17 casual                  September       1668.9319            \n",
       "18 member                  September        824.1358            \n",
       "19 casual                  October         1720.4382            \n",
       "20 member                  October          750.1241            \n",
       "21 casual                  November        1387.9469            \n",
       "22 member                  November         678.5561            \n",
       "23 casual                  December        1409.6574            \n",
       "24 member                  December         660.2963            "
      ]
     },
     "metadata": {},
     "output_type": "display_data"
    }
   ],
   "source": [
    "# Set order of days of week and month\n",
    "all_trips$day_of_week <- ordered(all_trips$day_of_week, levels=c(\"Sunday\", \"Monday\", \"Tuesday\", \"Wednesday\", \"Thursday\", \"Friday\", \"Saturday\"))\n",
    "all_trips$month <- ordered(all_trips$month, levels=c(\"January\", \"February\", \"March\", \"April\", \"May\", \"June\", \"July\", \"August\", \"September\", \"October\", \"November\", \"December\"))\n",
    "\n",
    "# Average ride time by day of week and member\n",
    "aggregate(all_trips$ride_length ~ all_trips$member_casual + all_trips$day_of_week, FUN = mean)\n",
    "\n",
    "# Average ride time by month and member\n",
    "aggregate(all_trips$ride_length ~ all_trips$member_casual + all_trips$month, FUN = mean)"
   ]
  },
  {
   "cell_type": "code",
   "execution_count": 9,
   "id": "c1740bba",
   "metadata": {
    "execution": {
     "iopub.execute_input": "2022-01-16T21:09:55.596052Z",
     "iopub.status.busy": "2022-01-16T21:09:55.594627Z",
     "iopub.status.idle": "2022-01-16T21:10:03.971447Z",
     "shell.execute_reply": "2022-01-16T21:10:03.969910Z"
    },
    "papermill": {
     "duration": 8.433493,
     "end_time": "2022-01-16T21:10:03.971601",
     "exception": false,
     "start_time": "2022-01-16T21:09:55.538108",
     "status": "completed"
    },
    "tags": []
   },
   "outputs": [
    {
     "name": "stderr",
     "output_type": "stream",
     "text": [
      "`summarise()` has grouped output by 'member_casual'. You can override using the `.groups` argument.\n",
      "\n"
     ]
    },
    {
     "data": {
      "text/html": [
       "<table class=\"dataframe\">\n",
       "<caption>A grouped_df: 14 × 4</caption>\n",
       "<thead>\n",
       "\t<tr><th scope=col>member_casual</th><th scope=col>weekday</th><th scope=col>number_of_rides</th><th scope=col>average_duration</th></tr>\n",
       "\t<tr><th scope=col>&lt;chr&gt;</th><th scope=col>&lt;ord&gt;</th><th scope=col>&lt;int&gt;</th><th scope=col>&lt;dbl&gt;</th></tr>\n",
       "</thead>\n",
       "<tbody>\n",
       "\t<tr><td>casual</td><td>Sun</td><td>481104</td><td>2253.9949</td></tr>\n",
       "\t<tr><td>casual</td><td>Mon</td><td>286373</td><td>1912.5269</td></tr>\n",
       "\t<tr><td>casual</td><td>Tue</td><td>274388</td><td>1678.3396</td></tr>\n",
       "\t<tr><td>casual</td><td>Wed</td><td>278948</td><td>1659.4383</td></tr>\n",
       "\t<tr><td>casual</td><td>Thu</td><td>286064</td><td>1662.1955</td></tr>\n",
       "\t<tr><td>casual</td><td>Fri</td><td>364075</td><td>1820.9160</td></tr>\n",
       "\t<tr><td>casual</td><td>Sat</td><td>557994</td><td>2082.3740</td></tr>\n",
       "\t<tr><td>member</td><td>Sun</td><td>376117</td><td> 939.4763</td></tr>\n",
       "\t<tr><td>member</td><td>Mon</td><td>416204</td><td> 794.8517</td></tr>\n",
       "\t<tr><td>member</td><td>Tue</td><td>465509</td><td> 767.2874</td></tr>\n",
       "\t<tr><td>member</td><td>Wed</td><td>477156</td><td> 769.1496</td></tr>\n",
       "\t<tr><td>member</td><td>Thu</td><td>451520</td><td> 766.5710</td></tr>\n",
       "\t<tr><td>member</td><td>Fri</td><td>446423</td><td> 799.4950</td></tr>\n",
       "\t<tr><td>member</td><td>Sat</td><td>433041</td><td> 915.8742</td></tr>\n",
       "</tbody>\n",
       "</table>\n"
      ],
      "text/latex": [
       "A grouped\\_df: 14 × 4\n",
       "\\begin{tabular}{llll}\n",
       " member\\_casual & weekday & number\\_of\\_rides & average\\_duration\\\\\n",
       " <chr> & <ord> & <int> & <dbl>\\\\\n",
       "\\hline\n",
       "\t casual & Sun & 481104 & 2253.9949\\\\\n",
       "\t casual & Mon & 286373 & 1912.5269\\\\\n",
       "\t casual & Tue & 274388 & 1678.3396\\\\\n",
       "\t casual & Wed & 278948 & 1659.4383\\\\\n",
       "\t casual & Thu & 286064 & 1662.1955\\\\\n",
       "\t casual & Fri & 364075 & 1820.9160\\\\\n",
       "\t casual & Sat & 557994 & 2082.3740\\\\\n",
       "\t member & Sun & 376117 &  939.4763\\\\\n",
       "\t member & Mon & 416204 &  794.8517\\\\\n",
       "\t member & Tue & 465509 &  767.2874\\\\\n",
       "\t member & Wed & 477156 &  769.1496\\\\\n",
       "\t member & Thu & 451520 &  766.5710\\\\\n",
       "\t member & Fri & 446423 &  799.4950\\\\\n",
       "\t member & Sat & 433041 &  915.8742\\\\\n",
       "\\end{tabular}\n"
      ],
      "text/markdown": [
       "\n",
       "A grouped_df: 14 × 4\n",
       "\n",
       "| member_casual &lt;chr&gt; | weekday &lt;ord&gt; | number_of_rides &lt;int&gt; | average_duration &lt;dbl&gt; |\n",
       "|---|---|---|---|\n",
       "| casual | Sun | 481104 | 2253.9949 |\n",
       "| casual | Mon | 286373 | 1912.5269 |\n",
       "| casual | Tue | 274388 | 1678.3396 |\n",
       "| casual | Wed | 278948 | 1659.4383 |\n",
       "| casual | Thu | 286064 | 1662.1955 |\n",
       "| casual | Fri | 364075 | 1820.9160 |\n",
       "| casual | Sat | 557994 | 2082.3740 |\n",
       "| member | Sun | 376117 |  939.4763 |\n",
       "| member | Mon | 416204 |  794.8517 |\n",
       "| member | Tue | 465509 |  767.2874 |\n",
       "| member | Wed | 477156 |  769.1496 |\n",
       "| member | Thu | 451520 |  766.5710 |\n",
       "| member | Fri | 446423 |  799.4950 |\n",
       "| member | Sat | 433041 |  915.8742 |\n",
       "\n"
      ],
      "text/plain": [
       "   member_casual weekday number_of_rides average_duration\n",
       "1  casual        Sun     481104          2253.9949       \n",
       "2  casual        Mon     286373          1912.5269       \n",
       "3  casual        Tue     274388          1678.3396       \n",
       "4  casual        Wed     278948          1659.4383       \n",
       "5  casual        Thu     286064          1662.1955       \n",
       "6  casual        Fri     364075          1820.9160       \n",
       "7  casual        Sat     557994          2082.3740       \n",
       "8  member        Sun     376117           939.4763       \n",
       "9  member        Mon     416204           794.8517       \n",
       "10 member        Tue     465509           767.2874       \n",
       "11 member        Wed     477156           769.1496       \n",
       "12 member        Thu     451520           766.5710       \n",
       "13 member        Fri     446423           799.4950       \n",
       "14 member        Sat     433041           915.8742       "
      ]
     },
     "metadata": {},
     "output_type": "display_data"
    }
   ],
   "source": [
    "# analyze by ridership type and weekday by creating weekday field and calculating \n",
    "# number of rides and average duration\n",
    "all_trips %>% \n",
    "  mutate(weekday = wday(started_at, label = TRUE)) %>%  \n",
    "  group_by(member_casual, weekday) %>%  \n",
    "  summarise(number_of_rides = n()\t\t\t\t\t\t\t\n",
    "            ,average_duration = mean(ride_length)) %>% \t\t\n",
    "  arrange(member_casual, weekday)\t"
   ]
  },
  {
   "cell_type": "code",
   "execution_count": 10,
   "id": "6cca1d2c",
   "metadata": {
    "execution": {
     "iopub.execute_input": "2022-01-16T21:10:04.087808Z",
     "iopub.status.busy": "2022-01-16T21:10:04.086371Z",
     "iopub.status.idle": "2022-01-16T21:10:27.139118Z",
     "shell.execute_reply": "2022-01-16T21:10:27.138214Z"
    },
    "papermill": {
     "duration": 23.111626,
     "end_time": "2022-01-16T21:10:27.139354",
     "exception": false,
     "start_time": "2022-01-16T21:10:04.027728",
     "status": "completed"
    },
    "tags": []
   },
   "outputs": [
    {
     "name": "stderr",
     "output_type": "stream",
     "text": [
      "`summarise()` has grouped output by 'member_casual'. You can override using the `.groups` argument.\n",
      "\n",
      "`summarise()` has grouped output by 'member_casual'. You can override using the `.groups` argument.\n",
      "\n"
     ]
    },
    {
     "data": {
      "image/png": "[encoded data removed]"
     },
     "metadata": {
      "image/png": {
       "height": 420,
       "width": 420
      }
     },
     "output_type": "display_data"
    },
    {
     "name": "stderr",
     "output_type": "stream",
     "text": [
      "`summarise()` has grouped output by 'member_casual'. You can override using the `.groups` argument.\n",
      "\n"
     ]
    },
    {
     "data": {
      "image/png": "[encoded data removed]"
     },
     "metadata": {
      "image/png": {
       "height": 420,
       "width": 420
      }
     },
     "output_type": "display_data"
    },
    {
     "name": "stderr",
     "output_type": "stream",
     "text": [
      "`summarise()` has grouped output by 'member_casual'. You can override using the `.groups` argument.\n",
      "\n"
     ]
    },
    {
     "data": {
      "image/png": "[encoded data removed]"
     },
     "metadata": {
      "image/png": {
       "height": 420,
       "width": 420
      }
     },
     "output_type": "display_data"
    },
    {
     "data": {
      "image/png": "[encoded data removed]"
     },
     "metadata": {
      "image/png": {
       "height": 420,
       "width": 420
      }
     },
     "output_type": "display_data"
    }
   ],
   "source": [
    "# visualize the number of rides by rider type and day of week\n",
    "setwd(\"/kaggle/working\")\n",
    "all_trips %>% \n",
    "  mutate(weekday = wday(started_at, label = TRUE)) %>% \n",
    "  group_by(member_casual, weekday) %>% \n",
    "  summarise(number_of_rides = n()\n",
    "            ,average_duration = mean(ride_length)) %>% \n",
    "  arrange(member_casual, weekday)  %>% \n",
    "  ggplot(aes(x = weekday, y = number_of_rides, fill = member_casual)) +\n",
    "  geom_col(position = \"dodge\") +\n",
    "  labs(title = \"Number of Trips by Day of Week\")\n",
    "\n",
    "# visualize the number of rides by rider type and month\n",
    "all_trips %>% \n",
    "  mutate(month2 = month(started_at, label = TRUE)) %>% \n",
    "  group_by(member_casual, month2) %>% \n",
    "  summarise(number_of_rides = n()\n",
    "            ,average_duration = mean(ride_length)) %>% \n",
    "  arrange(member_casual, month2)  %>% \n",
    "  ggplot(aes(x = month2, y = number_of_rides, fill = member_casual)) +\n",
    "  geom_col(position = \"dodge\") +\n",
    "  labs(title = \"Number of Trips by Month\")\n",
    "\n",
    "# visualize average duration by day of week\n",
    "all_trips %>% \n",
    "  mutate(weekday = wday(started_at, label = TRUE)) %>% \n",
    "  group_by(member_casual, weekday) %>% \n",
    "  summarise(number_of_rides = n()\n",
    "            ,average_duration = mean(ride_length)) %>% \n",
    "  arrange(member_casual, weekday)  %>% \n",
    "  ggplot(aes(x = weekday, y = average_duration, fill = member_casual)) +\n",
    "  geom_col(position = \"dodge\") +\n",
    "  labs(title = \"Average Trip Length by Day of Week (in seconds)\")\n",
    "\n",
    "# visualize average duration by month\n",
    "all_trips %>% \n",
    "  mutate(month2 = month(started_at, label = TRUE)) %>% \n",
    "  group_by(member_casual, month2) %>% \n",
    "  summarise(number_of_rides = n()\n",
    "            ,average_duration = mean(ride_length)) %>% \n",
    "  arrange(member_casual, month2)  %>% \n",
    "  ggplot(aes(x = month2, y = average_duration, fill = member_casual)) +\n",
    "  geom_col(position = \"dodge\") +\n",
    "  labs(title = \"Average Trip Length by Month (in seconds)\")"
   ]
  },
  {
   "cell_type": "code",
   "execution_count": null,
   "id": "13147614",
   "metadata": {
    "papermill": {
     "duration": 0.064436,
     "end_time": "2022-01-16T21:10:27.269103",
     "exception": false,
     "start_time": "2022-01-16T21:10:27.204667",
     "status": "completed"
    },
    "tags": []
   },
   "outputs": [],
   "source": []
  },
  {
   "cell_type": "markdown",
   "id": "f3a8f758",
   "metadata": {
    "papermill": {
     "duration": 0.064379,
     "end_time": "2022-01-16T21:10:27.398458",
     "exception": false,
     "start_time": "2022-01-16T21:10:27.334079",
     "status": "completed"
    },
    "tags": []
   },
   "source": []
  }
 ],
 "metadata": {
  "kernelspec": {
   "display_name": "R",
   "language": "R",
   "name": "ir"
  },
  "language_info": {
   "codemirror_mode": "r",
   "file_extension": ".r",
   "mimetype": "text/x-r-source",
   "name": "R",
   "pygments_lexer": "r",
   "version": "4.0.5"
  },
  "papermill": {
   "default_parameters": {},
   "duration": 134.400345,
   "end_time": "2022-01-16T21:10:27.672980",
   "environment_variables": {},
   "exception": null,
   "input_path": "__notebook__.ipynb",
   "output_path": "__notebook__.ipynb",
   "parameters": {},
   "start_time": "2022-01-16T21:08:13.272635",
   "version": "2.3.3"
  }
 },
 "nbformat": 4,
 "nbformat_minor": 5
}
